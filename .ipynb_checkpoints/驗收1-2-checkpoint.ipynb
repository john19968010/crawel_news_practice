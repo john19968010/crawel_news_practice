{
 "cells": [
  {
   "cell_type": "code",
   "execution_count": null,
   "metadata": {},
   "outputs": [],
   "source": [
    "#將抓到的string轉成我原本要的list\n",
    "import ast\n",
    "articles = ast.literal_eval(data)"
   ]
  },
  {
   "cell_type": "code",
   "execution_count": 78,
   "metadata": {},
   "outputs": [],
   "source": [
    "import json\n",
    "import requests\n",
    "from lxml import html\n",
    "from lxml import cssselect\n",
    "import json\n",
    "from bs4 import BeautifulSoup as bs"
   ]
  },
  {
   "cell_type": "code",
   "execution_count": 79,
   "metadata": {},
   "outputs": [],
   "source": [
    "#1-1第一種方法\n",
    "file = open('Exam1_1.json','r')\n",
    "content = file.read()\n",
    "file.close()\n"
   ]
  },
  {
   "cell_type": "code",
   "execution_count": 24,
   "metadata": {},
   "outputs": [],
   "source": [
    "#1-1的第一種方法\n",
    "#因為格式不對所以用replace來修格式\n",
    "#但程式沒有反應,所以放棄第一種\n",
    "a = []\n",
    "a.append(content.replace(\"''\",\"\"))"
   ]
  },
  {
   "cell_type": "code",
   "execution_count": 80,
   "metadata": {},
   "outputs": [],
   "source": [
    "#以下都是第二種(正確的)\n",
    "fn = 'Exam1_1.json'\n",
    "with open(fn ,'r') as file:\n",
    "    \n",
    "    data = json.load(file)\n"
   ]
  },
  {
   "cell_type": "code",
   "execution_count": 71,
   "metadata": {},
   "outputs": [
    {
     "data": {
      "text/plain": [
       "[{'category': '晶片',\n",
       "  'sum_title': '台積電 7 奈米製程介入汽車電子市場，設計實現平台首次投片即成功',\n",
       "  'sum_title_url': 'https://technews.tw/2020/05/28/tsmc-delivers-world-first-7nm-automotive-design-enablement-platform/',\n",
       "  'spotlist': [{'title': '華為有望下單給高通？分析師：美商務部應會核准執照',\n",
       "    'url': 'https://technews.tw/2020/05/29/qualcomm-likely-to-sell-smartphone-chips-to-huawei/'},\n",
       "   {'title': '將遞延部分設備訂單，外資下修台積電 2020 年全年資本支出',\n",
       "    'url': 'https://technews.tw/2020/05/28/tsmc-deferred-equipment-orders/'},\n",
       "   {'title': '對美關係走鋼索！台積電延攬 2 名重要華盛頓說客',\n",
       "    'url': 'https://technews.tw/2020/05/28/tsmc-recruits-2-important-washington-lobbyists/'}]},\n",
       " {'category': 'Samsung',\n",
       "  'sum_title': '積極挑戰 Sony 市占率，三星擴大投資圖像感測器',\n",
       "  'sum_title_url': 'https://technews.tw/2020/05/28/samsung-investment-cis-produce/',\n",
       "  'spotlist': [{'title': '三星發表 8 奈米 Exynos 880 5G 行動處理器，搶食中高階主流市場',\n",
       "    'url': 'https://technews.tw/2020/05/26/samsung-exynos-880/'},\n",
       "   {'title': '三星 Q1 智慧手機出貨量下滑 18%，市占仍居冠',\n",
       "    'url': 'https://technews.tw/2020/05/26/samsung-q1-smartphone-shipments-decline-market-share-still-tops/'},\n",
       "   {'title': '華為遭美圍剿撼動供應鏈，日經：台積電、三星對峙更嚴重',\n",
       "    'url': 'https://technews.tw/2020/05/26/samsung-tsmc-rivalry-heats-up-as-us-cracks-down-on-huawei/'}]},\n",
       " {'category': '電動車',\n",
       "  'sum_title': 'Gogoro 電動單車 Eeyo 1 系列登場，搭載輪轂動力輔助系統、定價逾台幣 11 萬元起',\n",
       "  'sum_title_url': 'https://technews.tw/2020/05/29/gogoro-eeyo-1-is-a-lightweight-e-bike-designed-for-the-city/',\n",
       "  'spotlist': [{'title': '就是不花錢買廣告，特斯拉又賺到 NASA 免費曝光機會',\n",
       "    'url': 'https://technews.tw/2020/05/28/tesla-get-free-ad-from-nasa-mission/'},\n",
       "   {'title': '拚買氣！特斯拉北美、中國大降價，折價最高 5 千美元',\n",
       "    'url': 'https://technews.tw/2020/05/28/tesla-cut-us-cn-model-3-s-x-price/'},\n",
       "   {'title': '傳福斯汽車集團加碼電動車業務，收購中國江淮集團 50% 股權',\n",
       "    'url': 'https://technews.tw/2020/05/27/volkswagen-in-final-talks-to-seal-biggest-ma-deals-in-china-ev-sector/'}]},\n",
       " {'category': '自然科學',\n",
       "  'sum_title': '異常規模不斷擴大，地球最弱的磁場區域正在一分為二',\n",
       "  'sum_title_url': 'https://technews.tw/2020/05/28/earth-magnetic-field-south-atlantic-anomaly/',\n",
       "  'spotlist': [{'title': '天文學家解碼星光可取得行星適居性',\n",
       "    'url': 'https://technews.tw/2020/05/29/astronomers-develop-decoder-to-gauge-exoplanet-climate/'},\n",
       "   {'title': '不只要救蜜蜂，研究發現蛾對授粉也一樣重要',\n",
       "    'url': 'https://technews.tw/2020/05/29/moths-have-secret-role-as-crucial-pollinators/'},\n",
       "   {'title': '神祕的快速電波脈衝現象，能幫助解開宇宙遺失物質之謎',\n",
       "    'url': 'https://technews.tw/2020/05/28/fast-radio-burst-matter-universe-%ce%bbcdm-askap/'}]},\n",
       " {'category': '財經',\n",
       "  'sum_title': '死於錢多？前無古人的軟銀願景基金，再無來者',\n",
       "  'sum_title_url': 'https://technews.tw/2020/05/29/softbank-vision-found-died-of-money/',\n",
       "  'spotlist': [{'title': '道瓊殺尾盤！川普不滿港事件，將揭美中貿易命運',\n",
       "    'url': 'https://technews.tw/2020/05/29/us-stock-market-0529/'},\n",
       "   {'title': '疫情重創廣告量，澳洲新聞集團逾百家報紙停發',\n",
       "    'url': 'https://technews.tw/2020/05/29/news-corp-stops-publishing-more-than-100-regional-and-local-newspapers/'},\n",
       "   {'title': '自稱買股 4 年賺 200 萬美元！美網友看好挪威郵輪，股價飆 9%',\n",
       "    'url': 'https://technews.tw/2020/05/28/norwegian-cruise-line-stock-price-iknowthecodings/'}]},\n",
       " {'category': '電子商務',\n",
       "  'sum_title': 'foodpanda 母公司亞太訂單量年增 2.6 倍，鎖定台灣為重點發展市場',\n",
       "  'sum_title_url': 'https://technews.tw/2020/05/28/delivery-hero-continues-strong-growth-in-q1-as-orders-and-revenues-nearly-double/',\n",
       "  'spotlist': [{'title': '振興券排除電商引來產業不平，政院：促進消費並幫助實體商家',\n",
       "    'url': 'https://technews.tw/2020/05/28/taiwan-revitalization-coupon/'},\n",
       "   {'title': '受惠疫情 Shopify 股價狂飆，分析師警告：小心泡沫化',\n",
       "    'url': 'https://technews.tw/2020/05/25/shopify-stock-price-bubble/'},\n",
       "   {'title': '亞馬遜開始的 25 年風起雲湧，跨境電商如何快速成長？',\n",
       "    'url': 'https://technews.tw/2020/05/25/taiwan-in-cross-border-e-commerce/'}]},\n",
       " {'category': '能源科技',\n",
       "  'sum_title': '再生能源的排列組合，德研發風電、太陽能、波浪能三合一發電系統',\n",
       "  'sum_title_url': 'https://technews.tw/2020/05/28/sinn-power-solar-wind-wave/',\n",
       "  'spotlist': [{'title': '封城、關稅戰、追兵緊咬，倉和現三大隱憂',\n",
       "    'url': 'https://technews.tw/2020/05/28/taiwan-bch-future-performance/'},\n",
       "   {'title': '層層關卡讓技術留在台灣，離岸風電在地化項目有哪些？',\n",
       "    'url': 'https://technews.tw/2020/05/27/taiwan-offshore-wind-localization/'},\n",
       "   {'title': '西門子歌美薩 14MW 全球最大離岸風機，2024 年有望現身台灣',\n",
       "    'url': 'https://technews.tw/2020/05/26/siemens-gamesa-14-mw-taiwan/'}]},\n",
       " {'category': '雲端',\n",
       "  'sum_title': '應援全球遠端辦公，Google Meet 等多項工具開放企業免費使用，田中系統響應無償協助導入',\n",
       "  'sum_title_url': 'https://technews.tw/2020/05/25/remote-work-google-g-suit-google-meet/',\n",
       "  'spotlist': [{'title': '新加坡首次以 Zoom 宣判死刑，庭審以視訊方式進行',\n",
       "    'url': 'https://technews.tw/2020/05/21/singapore-sentenced-to-death-by-zoom-the-first-time/'},\n",
       "   {'title': 'Zoom 視訊會議 5/17 全球大當機，官方影響性調查與使用者回報差很大',\n",
       "    'url': 'https://technews.tw/2020/05/18/zoom-problem/'},\n",
       "   {'title': '台灣 AI 雲將技轉籌組 AI 服務公司，陳良基：打造「AI 軟體的台積電」',\n",
       "    'url': 'https://technews.tw/2020/05/15/taiwan-computing-cloud/'}]}]"
      ]
     },
     "execution_count": 71,
     "metadata": {},
     "output_type": "execute_result"
    }
   ],
   "source": [
    "data"
   ]
  },
  {
   "cell_type": "code",
   "execution_count": 81,
   "metadata": {},
   "outputs": [
    {
     "data": {
      "text/plain": [
       "8"
      ]
     },
     "execution_count": 81,
     "metadata": {},
     "output_type": "execute_result"
    }
   ],
   "source": [
    "len(data)"
   ]
  },
  {
   "cell_type": "code",
   "execution_count": 69,
   "metadata": {},
   "outputs": [
    {
     "data": {
      "text/plain": [
       "['晶片', 'Samsung', '電動車', '自然科學', '財經', '電子商務', '能源科技', '雲端']"
      ]
     },
     "execution_count": 69,
     "metadata": {},
     "output_type": "execute_result"
    }
   ],
   "source": [
    "category = []\n",
    "for i in data:\n",
    "    category.append(i['category'])\n",
    "category\n"
   ]
  },
  {
   "cell_type": "code",
   "execution_count": 73,
   "metadata": {},
   "outputs": [],
   "source": [
    "for j in range(len(data)):\n",
    "    res = requests.get(data[j]['sum_title_url'])\n",
    "    soup = bs(res.text,'lxml')\n",
    "    paragraph = soup.select('div.indent > p')\n",
    "    file = \"sum_\" + data[j]['category'] + \"_\" + data[j]['sum_title'][0:4] + '.txt'\n",
    "    with open(file, 'a') as filename:\n",
    "        for i in paragraph:\n",
    "             filename.write(i.text)"
   ]
  },
  {
   "cell_type": "code",
   "execution_count": 77,
   "metadata": {},
   "outputs": [],
   "source": [
    "for j in range(len(data)):\n",
    "    for k in range(3):\n",
    "        res = requests.get(data[j]['sum_title_url'])\n",
    "        soup = bs(res.text,'lxml')\n",
    "        paragraph = soup.select('div.indent > p')\n",
    "        file = \"spot_\" + data[j]['category'] + \"_\" + data[j]['spotlist'][k]['title'][0:4] + '.txt'\n",
    "        with open(file, 'a') as filename:\n",
    "            for i in paragraph:\n",
    "                filename.write(i.text)"
   ]
  },
  {
   "cell_type": "code",
   "execution_count": 83,
   "metadata": {},
   "outputs": [],
   "source": []
  },
  {
   "cell_type": "code",
   "execution_count": null,
   "metadata": {},
   "outputs": [],
   "source": []
  }
 ],
 "metadata": {
  "kernelspec": {
   "display_name": "Python 3",
   "language": "python",
   "name": "python3"
  },
  "language_info": {
   "codemirror_mode": {
    "name": "ipython",
    "version": 3
   },
   "file_extension": ".py",
   "mimetype": "text/x-python",
   "name": "python",
   "nbconvert_exporter": "python",
   "pygments_lexer": "ipython3",
   "version": "3.7.6"
  }
 },
 "nbformat": 4,
 "nbformat_minor": 4
}
